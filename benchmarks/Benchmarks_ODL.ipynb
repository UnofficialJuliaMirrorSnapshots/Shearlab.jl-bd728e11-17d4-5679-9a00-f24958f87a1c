{
 "cells": [
  {
   "cell_type": "markdown",
   "metadata": {},
   "source": [
    "# <center> Shearlab decomposition benchmarks </center>"
   ]
  },
  {
   "cell_type": "markdown",
   "metadata": {},
   "source": [
    "Some benchmarks comparing the performance of pure julia, python/julia and python implementation."
   ]
  },
  {
   "cell_type": "code",
   "execution_count": 6,
   "metadata": {},
   "outputs": [],
   "source": [
    "# Importing julia\n",
    "import odl\n",
    "import sys\n",
    "sys.path.append('../')\n",
    "import shearlab_operator\n",
    "import pyshearlab\n",
    "import matplotlib.pyplot as plt\n",
    "%matplotlib inline\n",
    "from numpy import ceil\n",
    "from odl.contrib.shearlab import shearlab_operator"
   ]
  },
  {
   "cell_type": "code",
   "execution_count": 2,
   "metadata": {},
   "outputs": [],
   "source": [
    "# Calling julia\n",
    "j = shearlab_operator.load_julia_with_Shearlab()"
   ]
  },
  {
   "cell_type": "markdown",
   "metadata": {},
   "source": [
    "Defining the parameters"
   ]
  },
  {
   "cell_type": "code",
   "execution_count": 3,
   "metadata": {},
   "outputs": [],
   "source": [
    "n = 512\n",
    "m = n\n",
    "gpu = 0\n",
    "square = 0\n",
    "name = './lena.jpg';"
   ]
  },
  {
   "cell_type": "code",
   "execution_count": 7,
   "metadata": {},
   "outputs": [],
   "source": [
    "nScales = 4;\n",
    "shearLevels = [float(ceil(i/2)) for i in range(1,nScales+1)]\n",
    "scalingFilter = 'Shearlab.filt_gen(\"scaling_shearlet\")'\n",
    "directionalFilter = 'Shearlab.filt_gen(\"directional_shearlet\")'\n",
    "waveletFilter = 'Shearlab.mirror(scalingFilter)'\n",
    "scalingFilter2 = 'scalingFilter'\n",
    "full = 0;"
   ]
  },
  {
   "cell_type": "code",
   "execution_count": 10,
   "metadata": {},
   "outputs": [],
   "source": [
    "# Pure Julia\n",
    "j.eval('X = Shearlab.load_image(name, n);');"
   ]
  },
  {
   "cell_type": "code",
   "execution_count": 11,
   "metadata": {},
   "outputs": [],
   "source": [
    "# Read Data\n",
    "j.eval('n = 512;')\n",
    "# The path of the image\n",
    "j.eval('name = \"./lena.jpg\";');\n",
    "data = shearlab_operator.load_image(name,n);"
   ]
  },
  {
   "cell_type": "code",
   "execution_count": 12,
   "metadata": {},
   "outputs": [],
   "source": [
    "sizeX = data.shape[0]\n",
    "sizeY = data.shape[1]\n",
    "rows = sizeX\n",
    "cols = sizeY\n",
    "X = data;"
   ]
  },
  {
   "cell_type": "markdown",
   "metadata": {},
   "source": [
    "** Shearlet System generation **"
   ]
  },
  {
   "cell_type": "code",
   "execution_count": 18,
   "metadata": {},
   "outputs": [
    {
     "name": "stdout",
     "output_type": "stream",
     "text": [
      "Shearlet System Generation julia :      9.345 \n"
     ]
    }
   ],
   "source": [
    "# Pure julia\n",
    "with odl.util.Timer('Shearlet System Generation julia'):\n",
    "    j.eval('shearletSystem = Shearlab.getshearletsystem2D(n,n,4)');"
   ]
  },
  {
   "cell_type": "code",
   "execution_count": 14,
   "metadata": {},
   "outputs": [
    {
     "name": "stdout",
     "output_type": "stream",
     "text": [
      "Shearlet System Generation python/julia :      9.125 \n"
     ]
    }
   ],
   "source": [
    "# Python/Julia\n",
    "with odl.util.Timer('Shearlet System Generation python/julia'):\n",
    "    shearletSystem_jl = shearlab_operator.getshearletsystem2D(rows,cols,nScales,shearLevels,full,directionalFilter,scalingFilter);"
   ]
  },
  {
   "cell_type": "code",
   "execution_count": 15,
   "metadata": {},
   "outputs": [
    {
     "name": "stdout",
     "output_type": "stream",
     "text": [
      "Shearlet System Generation python :     49.179 \n"
     ]
    }
   ],
   "source": [
    "# pyShearlab\n",
    "with odl.util.Timer('Shearlet System Generation python'):\n",
    "    shearletSystem_py = pyshearlab.SLgetShearletSystem2D(0,rows, cols, nScales)"
   ]
  },
  {
   "cell_type": "markdown",
   "metadata": {},
   "source": [
    "** Coefficients computation **"
   ]
  },
  {
   "cell_type": "code",
   "execution_count": 19,
   "metadata": {},
   "outputs": [
    {
     "name": "stdout",
     "output_type": "stream",
     "text": [
      "Shearlet Coefficients Computation julia :      1.203 \n"
     ]
    }
   ],
   "source": [
    "# Pure Julia\n",
    "with odl.util.Timer('Shearlet Coefficients Computation julia'):\n",
    "    j.eval('coeffs = Shearlab.SLsheardec2D(X,shearletSystem);');"
   ]
  },
  {
   "cell_type": "code",
   "execution_count": 25,
   "metadata": {},
   "outputs": [
    {
     "name": "stdout",
     "output_type": "stream",
     "text": [
      "Shearlet Coefficients Computation python/julia :      2.217 \n"
     ]
    }
   ],
   "source": [
    "# Julia/Python\n",
    "with odl.util.Timer('Shearlet Coefficients Computation python/julia'):\n",
    "    coeffs_jl = shearlab_operator.sheardec2D(X,shearletSystem_jl)"
   ]
  },
  {
   "cell_type": "code",
   "execution_count": 26,
   "metadata": {},
   "outputs": [
    {
     "name": "stdout",
     "output_type": "stream",
     "text": [
      "Shearlet Coefficients Computation python :      1.333 \n"
     ]
    }
   ],
   "source": [
    "# pyShearlab\n",
    "with odl.util.Timer('Shearlet Coefficients Computation python'):\n",
    "    coeffs_py = pyshearlab.SLsheardec2D(X, shearletSystem_py)"
   ]
  },
  {
   "cell_type": "markdown",
   "metadata": {},
   "source": [
    "** Reconstruction **"
   ]
  },
  {
   "cell_type": "code",
   "execution_count": 27,
   "metadata": {},
   "outputs": [
    {
     "name": "stdout",
     "output_type": "stream",
     "text": [
      "  Shearlet Reconstructon julia :      1.208 \n"
     ]
    }
   ],
   "source": [
    "# Pure Julia\n",
    "with odl.util.Timer('Shearlet Reconstructon julia'):\n",
    "    j.eval('Xrec=Shearlab.SLshearrec2D(coeffs,shearletSystem);');"
   ]
  },
  {
   "cell_type": "code",
   "execution_count": 28,
   "metadata": {},
   "outputs": [
    {
     "name": "stdout",
     "output_type": "stream",
     "text": [
      "Shearlet Reconstructon python/julia :      1.509 \n"
     ]
    }
   ],
   "source": [
    "# Julia/Python\n",
    "with odl.util.Timer('Shearlet Reconstructon python/julia'):\n",
    "    Xrec_jl = shearlab_operator.shearrec2D(coeffs_jl,shearletSystem_jl);"
   ]
  },
  {
   "cell_type": "code",
   "execution_count": 29,
   "metadata": {},
   "outputs": [
    {
     "name": "stdout",
     "output_type": "stream",
     "text": [
      " Shearlet Reconstructon python :      1.136 \n"
     ]
    }
   ],
   "source": [
    "# pyShearlab\n",
    "with odl.util.Timer('Shearlet Reconstructon python'):\n",
    "    Xrec_py = pyshearlab.SLshearrec2D(coeffs_py, shearletSystem_py)"
   ]
  }
 ],
 "metadata": {
  "kernelspec": {
   "display_name": "Python 3",
   "language": "python",
   "name": "python3"
  },
  "language_info": {
   "codemirror_mode": {
    "name": "ipython",
    "version": 3
   },
   "file_extension": ".py",
   "mimetype": "text/x-python",
   "name": "python",
   "nbconvert_exporter": "python",
   "pygments_lexer": "ipython3",
   "version": "3.4.6"
  }
 },
 "nbformat": 4,
 "nbformat_minor": 2
}

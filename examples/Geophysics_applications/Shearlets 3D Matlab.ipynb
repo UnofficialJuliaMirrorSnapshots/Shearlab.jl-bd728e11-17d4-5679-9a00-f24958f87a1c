{
 "cells": [
  {
   "cell_type": "markdown",
   "metadata": {},
   "source": [
    "### <center>Shearlets 3D Matlab </center>"
   ]
  },
  {
   "cell_type": "code",
   "execution_count": 8,
   "metadata": {
    "collapsed": false,
    "deletable": true,
    "editable": true
   },
   "outputs": [
    {
     "name": "stdout",
     "output_type": "stream",
     "text": [
      "[\bWarning: Function isrow has the same name as a MATLAB builtin. We suggest you\n",
      "rename the function to avoid a potential name conflict.]\b \n",
      "[\b> In path at 109\n",
      "  In addpath at 86\n",
      "  In pymat_eval at 31\n",
      "  In matlabserver at 24]\b\n"
     ]
    }
   ],
   "source": [
    "addpath(genpath('~/Desktop/Shearlab/ShearLab3Dv11_2/'))"
   ]
  },
  {
   "cell_type": "code",
   "execution_count": 16,
   "metadata": {
    "collapsed": false
   },
   "outputs": [],
   "source": [
    "vid = VideoReader('Turbulance.mp4');"
   ]
  },
  {
   "cell_type": "code",
   "execution_count": 17,
   "metadata": {
    "collapsed": false
   },
   "outputs": [
    {
     "name": "stderr",
     "output_type": "stream",
     "text": [
      "Undefined function 'get_frames' for input arguments of type 'VideoReader'.\n"
     ]
    }
   ],
   "source": [
    "frames = get_frames(vid, 1, 10)"
   ]
  },
  {
   "cell_type": "code",
   "execution_count": 11,
   "metadata": {
    "collapsed": false
   },
   "outputs": [
    {
     "name": "stderr",
     "output_type": "stream",
     "text": [
      "Undefined function 'hasFrame' for input arguments of type 'VideoReader'.\n"
     ]
    }
   ],
   "source": [
    "while hasFrame(vidObj)\n",
    "    video = readFrame(vidObj);\n",
    "end"
   ]
  },
  {
   "cell_type": "code",
   "execution_count": 2,
   "metadata": {
    "collapsed": false,
    "deletable": true,
    "editable": true
   },
   "outputs": [
    {
     "name": "stdout",
     "output_type": "stream",
     "text": [
      "---SLExampleVideoDenoising---\n",
      "loading video...\n"
     ]
    }
   ],
   "source": [
    "%%settings\n",
    "sigma = 30;\n",
    "scales = 2;\n",
    "shearLevels = [1 1];\n",
    "thresholdingFactor = 3;\n",
    "directionalFilter = modulate2(dfilters('cd','d')./sqrt(2),'c');"
   ]
  },
  {
   "cell_type": "code",
   "execution_count": 9,
   "metadata": {
    "collapsed": true,
    "deletable": true,
    "editable": true
   },
   "outputs": [],
   "source": [
    "%%load data\n",
    "load missamericaseqsmall;\n",
    "X = X;\n",
    "%X = double(X);"
   ]
  },
  {
   "cell_type": "code",
   "execution_count": null,
   "metadata": {
    "collapsed": false
   },
   "outputs": [],
   "source": [
    "X"
   ]
  },
  {
   "cell_type": "code",
   "execution_count": 4,
   "metadata": {
    "collapsed": false,
    "deletable": true,
    "editable": true
   },
   "outputs": [
    {
     "name": "stdout",
     "output_type": "stream",
     "text": [
      "ans =\n",
      "\n",
      "    64    64\n"
     ]
    }
   ],
   "source": [
    "size(X(:,:,2))"
   ]
  },
  {
   "cell_type": "code",
   "execution_count": 6,
   "metadata": {
    "collapsed": false,
    "deletable": true,
    "editable": true
   },
   "outputs": [
    {
     "data": {
      "image/png": "[encoded data removed]",
      "text/plain": [
       "<IPython.core.display.Image object>"
      ]
     },
     "metadata": {},
     "output_type": "display_data"
    }
   ],
   "source": [
    "\n",
    "imshow(mat2gray(X(:,:,64)));\n"
   ]
  },
  {
   "cell_type": "code",
   "execution_count": 7,
   "metadata": {
    "collapsed": false,
    "deletable": true,
    "editable": true
   },
   "outputs": [
    {
     "name": "stdout",
     "output_type": "stream",
     "text": [
      "ans =\n",
      "\n",
      "     2\n"
     ]
    }
   ],
   "source": [
    "1+1"
   ]
  },
  {
   "cell_type": "code",
   "execution_count": null,
   "metadata": {
    "collapsed": true,
    "deletable": true,
    "editable": true
   },
   "outputs": [],
   "source": [
    "%%add noise\n",
    "Xnoisy = X + sigma*randn(size(X));"
   ]
  },
  {
   "cell_type": "code",
   "execution_count": null,
   "metadata": {
    "collapsed": true,
    "deletable": true,
    "editable": true
   },
   "outputs": [],
   "source": [
    "elapsedTime = toc;\n",
    "fprintf([num2str(elapsedTime), ' s\\n']);\n",
    "tic;\n",
    "fprintf('generating shearlet system... ');\n",
    "\n",
    "%%create shearlets\n",
    "shearletSystem = SLgetShearletSystem3D(0,size(X,1),size(X,2),size(X,3),scales,shearLevels,0,directionalFilter);\n",
    "\n",
    "elapsedTime = toc;\n",
    "fprintf([num2str(elapsedTime), ' s\\n']);\n",
    "tic;\n",
    "fprintf('decomposition, thresholding and reconstruction... ');\n",
    "\n",
    "%%decomposition\n",
    "coeffs = SLsheardec3D(Xnoisy,shearletSystem);\n",
    "\n",
    "%%thresholding\n",
    "coeffs = coeffs.*(abs(coeffs) > thresholdingFactor*reshape(repmat(shearletSystem.RMS,[size(X,1)*size(X,2)*size(X,3) 1]),[size(X,1),size(X,2),size(X,3),length(shearletSystem.RMS)])*sigma);\n",
    "\n",
    "%%reconstruction\n",
    "Xrec = SLshearrec3D(coeffs,shearletSystem);\n",
    "\n",
    "elapsedTime = toc;\n",
    "fprintf([num2str(elapsedTime), ' s\\n']);\n",
    "\n",
    "%%compute psnr\n",
    "PSNR = SLcomputePSNR(X,Xrec);\n",
    "\n",
    "fprintf(['PSNR: ', num2str(PSNR) , ' db\\n']);"
   ]
  }
 ],
 "metadata": {
  "kernelspec": {
   "display_name": "Matlab",
   "language": "matlab",
   "name": "matlab"
  },
  "language_info": {
   "codemirror_mode": "octave",
   "file_extension": ".m",
   "help_links": [
    {
     "text": "MetaKernel Magics",
     "url": "https://github.com/calysto/metakernel/blob/master/metakernel/magics/README.md"
    }
   ],
   "mimetype": "text/x-octave",
   "name": "matlab",
   "version": "0.10.1"
  }
 },
 "nbformat": 4,
 "nbformat_minor": 2
}
